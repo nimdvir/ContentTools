{
  "nbformat": 4,
  "nbformat_minor": 0,
  "metadata": {
    "colab": {
      "provenance": [],
      "authorship_tag": "ABX9TyMMZu+VEjwTgowiJlKg53H+",
      "include_colab_link": true
    },
    "kernelspec": {
      "name": "python3",
      "display_name": "Python 3"
    },
    "language_info": {
      "name": "python"
    }
  },
  "cells": [
    {
      "cell_type": "markdown",
      "metadata": {
        "id": "view-in-github",
        "colab_type": "text"
      },
      "source": [
        "<a href=\"https://colab.research.google.com/github/nimdvir/ContentTools/blob/master/Functions.ipynb\" target=\"_parent\"><img src=\"https://colab.research.google.com/assets/colab-badge.svg\" alt=\"Open In Colab\"/></a>"
      ]
    },
    {
      "cell_type": "markdown",
      "source": [
        "# **Countdown Timer** in Google Colab\n",
        "\n",
        "This script will create a countdown timer that updates in real-time within a Google Colab notebook. The time is displayed in the format `HH:MM:SS`.\n"
      ],
      "metadata": {
        "id": "le3TThxexgcP"
      }
    },
    {
      "cell_type": "code",
      "source": [
        "# @title number\n",
        "test = 8 # @param {\"type\":\"number\",\"placeholder\":\"0\"}\n"
      ],
      "metadata": {
        "cellView": "form",
        "id": "sLxLpUrwyMBY"
      },
      "execution_count": null,
      "outputs": []
    },
    {
      "cell_type": "code",
      "source": [
        "import time\n",
        "from IPython.display import clear_output\n",
        "\n",
        "def display_timer(hours, minutes, seconds):\n",
        "    \"\"\"\n",
        "    Displays the timer in the format HH:MM:SS.\n",
        "\n",
        "    Parameters:\n",
        "    - hours (int): Number of hours remaining.\n",
        "    - minutes (int): Number of minutes remaining.\n",
        "    - seconds (int): Number of seconds remaining.\n",
        "    \"\"\"\n",
        "    print(f\"{hours:02d}:{minutes:02d}:{seconds:02d}\")\n",
        "\n",
        "def countdown(hours, minutes, seconds):\n",
        "    \"\"\"\n",
        "    Runs a countdown timer for the specified amount of time.\n",
        "\n",
        "    Parameters:\n",
        "    - hours (int): Number of hours for the countdown.\n",
        "    - minutes (int): Number of minutes for the countdown.\n",
        "    - seconds (int): Number of seconds for the countdown.\n",
        "    \"\"\"\n",
        "    total_seconds = hours * 3600 + minutes * 60 + seconds\n",
        "\n",
        "    while total_seconds > 0:\n",
        "        # Calculate hours, minutes, and seconds\n",
        "        hours, remainder = divmod(total_seconds, 3600)\n",
        "        minutes, seconds = divmod(remainder, 60)\n",
        "\n",
        "        # Clear the output to update the timer\n",
        "        clear_output(wait=True)\n",
        "\n",
        "        # Display the timer\n",
        "        display_timer(hours, minutes, seconds)\n",
        "\n",
        "        # Wait for one second\n",
        "        time.sleep(1)\n",
        "\n",
        "        # Decrement the total seconds\n",
        "        total_seconds -= 1\n",
        "\n",
        "    # Final display when the timer reaches zero\n",
        "    clear_output(wait=True)\n",
        "    print(\"Time's up!\")\n",
        "\n",
        "# Example Usage: Set a countdown for 0 hours, 1 minute, and 10 seconds\n",
        "countdown(0, 1, 10)\n"
      ],
      "metadata": {
        "colab": {
          "base_uri": "https://localhost:8080/"
        },
        "id": "M0YwjKs4yh-t",
        "outputId": "b1e9742a-5559-4b21-fff0-345d8cc5087b"
      },
      "execution_count": null,
      "outputs": [
        {
          "output_type": "stream",
          "name": "stdout",
          "text": [
            "00:00:23\n"
          ]
        }
      ]
    }
  ]
}